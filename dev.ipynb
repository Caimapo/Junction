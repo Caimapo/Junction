{
 "nbformat": 4,
 "nbformat_minor": 2,
 "metadata": {
  "language_info": {
   "name": "python",
   "codemirror_mode": {
    "name": "ipython",
    "version": 3
   },
   "version": "3.8.1-final"
  },
  "orig_nbformat": 2,
  "file_extension": ".py",
  "mimetype": "text/x-python",
  "name": "python",
  "npconvert_exporter": "python",
  "pygments_lexer": "ipython3",
  "version": 3,
  "kernelspec": {
   "name": "python38164bitjunctionpipenve350e0156daf429fb33afa06f80dee14",
   "display_name": "Python 3.8.1 64-bit ('Junction': pipenv)"
  }
 },
 "cells": [
  {
   "cell_type": "code",
   "execution_count": 1,
   "metadata": {},
   "outputs": [],
   "source": [
    "import os\n",
    "import sys\n",
    "\n",
    "sys.path.append(\"src/\")\n",
    "\n",
    "# go get an API token at https://id.atlassian.com/manage/api-tokens\n",
    "# and put it in the CONFLUENCE_API_KEY environment variable.\n",
    "# ...put the corresponding username (e-mail) in CONFLUENCE_API_USER\n",
    "\n",
    "WIKI_API = \"https://jihugh.atlassian.net/wiki/rest/api\"\n",
    "WIKI_USERNAME = os.environ['CONFLUENCE_API_USER']\n",
    "WIKI_PASSWORD = os.environ['CONFLUENCE_API_KEY']"
   ]
  },
  {
   "cell_type": "code",
   "execution_count": 3,
   "metadata": {},
   "outputs": [
    {
     "name": "stdout",
     "output_type": "stream",
     "text": "{\n  \"id\": \"229377\",\n  \"type\": \"page\",\n  \"status\": \"current\",\n  \"body\": {\n    \"storage\": {\n      \"value\": \"<p>Normal text</p><h1>Heading 1</h1><h2>Heading 2</h2><h3>Heading 3</h3><h4>Heading 4</h4><h5>Heading 5</h5><h6>Heading 6</h6><p>Back to normal text.</p><p><strong>Bold</strong></p><p><em>Italic</em></p><p><u>Underline</u></p><p><del>Strikethrough</del></p><p>x<sup>2</sup></p><p>a<sub>1</sub></p><p><code>Inline Code</code></p><p style=\\\"text-align: center;\\\">Center Align</p><p style=\\\"text-align: right;\\\">Right Align</p><p><span style=\\\"color: rgb(151,160,175);\\\">Grey </span><span style=\\\"color: rgb(101,84,192);\\\">Purple </span><span style=\\\"color: rgb(0,184,217);\\\">Teal </span><span style=\\\"color: rgb(54,179,126);\\\">Green </span><span style=\\\"color: rgb(255,86,48);\\\">Orange </span><span style=\\\"color: rgb(255,153,31);\\\">Yellow</span></p><ul><li><p>One</p></li><li><p>Two</p><ul><li><p>Child</p></li></ul></li><li><p>Three</p><ol><li><p>Number Child</p></li></ol></li></ul><ol><li><p>One</p></li><li><p>Two</p></li></ol><ac:structured-macro ac:name=\\\"code\\\" ac:schema-version=\\\"1\\\" ac:macro-id=\\\"f3c5f016-dac0-4a3d-b154-7ccd862ab463\\\"><ac:parameter ac:name=\\\"language\\\">c#</ac:parameter><ac:plain-text-body><![CDATA[Code snippet in C#]]></ac:plain-text-body></ac:structured-macro><hr /><p><ac:structured-macro ac:name=\\\"status\\\" ac:schema-version=\\\"1\\\" ac:macro-id=\\\"d4fcf299-d2f0-4eec-807a-1e4a3c8fe0dc\\\"><ac:parameter ac:name=\\\"title\\\">Purple Status</ac:parameter><ac:parameter ac:name=\\\"colour\\\">Purple</ac:parameter></ac:structured-macro> </p><ac:structured-macro ac:name=\\\"toc\\\" ac:schema-version=\\\"1\\\" data-layout=\\\"default\\\" ac:macro-id=\\\"d4d3f545-d250-47ec-8f27-25fecf5eac5a\\\" /><p><time datetime=\\\"2020-01-11\\\" /></p><ac:structured-macro ac:name=\\\"info\\\" ac:schema-version=\\\"1\\\" ac:macro-id=\\\"3ee20a82-95cb-4bda-9205-7d0354b54f00\\\"><ac:rich-text-body><p>Info Panel</p></ac:rich-text-body></ac:structured-macro><ac:structured-macro ac:name=\\\"note\\\" ac:schema-version=\\\"1\\\" ac:macro-id=\\\"2c85bff3-06c7-43f9-a490-532060bf2017\\\"><ac:rich-text-body><p>Caution Panel</p></ac:rich-text-body></ac:structured-macro><p><ac:link><ri:user ri:userkey=\\\"8a7f80896f868932016f8d32445f00ee\\\" /></ac:link> </p><table data-layout=\\\"default\\\"><tbody><tr><th><p><strong>Header 1</strong></p></th><th><p><strong>Header 2</strong></p></th><th><p><strong>Header 3</strong></p></th></tr><tr><td><p>Cell 1</p></td><td><p>Cell 2 </p></td><td><p>Cell 3</p></td></tr><tr><td><p>Cell 4</p></td><td><p>Cell 5</p></td><td><p>Cell 6</p></td></tr></tbody></table><p />\",\n      \"representation\": \"storage\",\n      \"embeddedContent\": []\n    },\n    \"_expandable\": {\n      \"editor\": \"\",\n      \"atlas_doc_format\": \"\",\n      \"view\": \"\",\n      \"export_view\": \"\",\n      \"styled_view\": \"\",\n      \"editor2\": \"\",\n      \"anonymous_export_view\": \"\"\n    }\n  },\n  \"_expandable\": {\n    \"childTypes\": \"\",\n    \"container\": \"/rest/api/space/NS\",\n    \"metadata\": \"\",\n    \"operations\": \"\",\n    \"children\": \"/rest/api/content/229377/child\",\n    \"restrictions\": \"/rest/api/content/229377/restriction/byOperation\",\n    \"history\": \"/rest/api/content/229377/history\",\n    \"ancestors\": \"\",\n    \"version\": \"\",\n    \"descendants\": \"/rest/api/content/229377/descendant\",\n    \"space\": \"/rest/api/space/NS\"\n  },\n  \"_links\": {\n    \"editui\": \"/pages/resumedraft.action?draftId=229377\",\n    \"webui\": \"/spaces/NS/pages/229377/Sample+Page\",\n    \"context\": \"/wiki\",\n    \"self\": \"https://jihugh.atlassian.net/wiki/rest/api/content/229377\",\n    \"tinyui\": \"/x/AYAD\",\n    \"collection\": \"/rest/api/content\",\n    \"base\": \"https://jihugh.atlassian.net/wiki\"\n  }\n}\n"
    }
   ],
   "source": [
    "from junction.confluence import Confluence\n",
    "from pprint import pprint\n",
    "wiki = Confluence(WIKI_API, WIKI_USERNAME, WIKI_PASSWORD)\n",
    "\n",
    "page = wiki.content.get_content_by_id(\"229377\", query_params={'expand': 'body.storage'})\n",
    "#pprint(page.__dict__)\n",
    "\n",
    "from junction.confluence.json import ApiEncoder\n",
    "print(ApiEncoder(indent=2).encode(page))"
   ]
  },
  {
   "cell_type": "code",
   "execution_count": 3,
   "metadata": {},
   "outputs": [
    {
     "name": "stdout",
     "output_type": "stream",
     "text": "<h1>Welcome to Junction</h1>\n<p>A tool for managing Confluence content with the power of Git.  With Junction you can run your entire content publishing workflow from a Git repository with pull requests.</p>\n<p>Junction will take markdown documents and turn them into Confluence wiki pages.</p>\n<h2>Supported Features</h2>\n<ul>\n<li>Unordered Lists</li>\n<li>Ordered Lists</li>\n<li><em>Italics</em></li>\n<li><strong>Bold</strong></li>\n<li>~~Strikethrough~~</li>\n<li><a href=\"https://www.google.com\">Links</a></li>\n<li>Inline <code>code</code></li>\n<li>...more to come!</li>\n</ul>"
    }
   ],
   "source": [
    "import markdown\n",
    "from markdown.extensions.sane_lists import SaneListExtension\n",
    "from markdown.extensions.fenced_code import FencedCodeExtension\n",
    "\n",
    "markdown.markdownFromFile(input=\"tests/wiki/TS/Root Page.md\", extensions=[SaneListExtension(), FencedCodeExtension()])"
   ]
  },
  {
   "cell_type": "code",
   "execution_count": null,
   "metadata": {},
   "outputs": [],
   "source": []
  }
 ]
}