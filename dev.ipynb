{
 "nbformat": 4,
 "nbformat_minor": 2,
 "metadata": {
  "language_info": {
   "name": "python",
   "codemirror_mode": {
    "name": "ipython",
    "version": 3
   },
   "version": "3.8.1-final"
  },
  "orig_nbformat": 2,
  "file_extension": ".py",
  "mimetype": "text/x-python",
  "name": "python",
  "npconvert_exporter": "python",
  "pygments_lexer": "ipython3",
  "version": 3,
  "kernelspec": {
   "name": "python38164bitjunctionpipenve350e0156daf429fb33afa06f80dee14",
   "display_name": "Python 3.8.1 64-bit ('Junction': pipenv)"
  }
 },
 "cells": [
  {
   "cell_type": "code",
   "execution_count": 2,
   "metadata": {},
   "outputs": [],
   "source": [
    "import os\n",
    "\n",
    "# go get an API token at https://id.atlassian.com/manage/api-tokens\n",
    "# and put it in the CONFLUENCE_API_KEY environment variable.\n",
    "# ...put the corresponding username (e-mail) in CONFLUENCE_API_USER\n",
    "\n",
    "WIKI_API = \"https://jihugh.atlassian.net/wiki/rest/api\"\n",
    "WIKI_USERNAME = os.environ['CONFLUENCE_API_USER']\n",
    "WIKI_PASSWORD = os.environ['CONFLUENCE_API_KEY']"
   ]
  },
  {
   "cell_type": "code",
   "execution_count": 3,
   "metadata": {},
   "outputs": [
    {
     "data": {
      "text/plain": "<src.confluence.Confluence at 0x107e24eb0>"
     },
     "execution_count": 3,
     "metadata": {},
     "output_type": "execute_result"
    }
   ],
   "source": [
    "from src.confluence import Confluence\n",
    "Confluence(WIKI_API_URL, WIKI_USERNAME, WIKI_PASSWORD)"
   ]
  },
  {
   "cell_type": "code",
   "execution_count": null,
   "metadata": {},
   "outputs": [],
   "source": []
  }
 ]
}