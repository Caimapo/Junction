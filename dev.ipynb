{
 "nbformat": 4,
 "nbformat_minor": 2,
 "metadata": {
  "language_info": {
   "name": "python",
   "codemirror_mode": {
    "name": "ipython",
    "version": 3
   },
   "version": "3.8.1-final"
  },
  "orig_nbformat": 2,
  "file_extension": ".py",
  "mimetype": "text/x-python",
  "name": "python",
  "npconvert_exporter": "python",
  "pygments_lexer": "ipython3",
  "version": 3,
  "kernelspec": {
   "name": "python38164bitjunctionpipenve350e0156daf429fb33afa06f80dee14",
   "display_name": "Python 3.8.1 64-bit ('Junction': pipenv)"
  }
 },
 "cells": [
  {
   "cell_type": "code",
   "execution_count": 1,
   "metadata": {},
   "outputs": [],
   "source": [
    "import os\n",
    "import sys\n",
    "\n",
    "sys.path.append(\"src/\")\n",
    "\n",
    "# go get an API token at https://id.atlassian.com/manage/api-tokens\n",
    "# and put it in the CONFLUENCE_API_KEY environment variable.\n",
    "# ...put the corresponding username (e-mail) in CONFLUENCE_API_USER\n",
    "\n",
    "WIKI_API = \"https://jihugh.atlassian.net/wiki/rest/api\"\n",
    "WIKI_USERNAME = os.environ['CONFLUENCE_API_USER']\n",
    "WIKI_PASSWORD = os.environ['CONFLUENCE_API_KEY']"
   ]
  },
  {
   "cell_type": "code",
   "execution_count": 7,
   "metadata": {},
   "outputs": [],
   "source": [
    "from junction.git import find_repository_root, find_commits_on_branch_after, get_modifications, filter_modifications_to_folder\n",
    "from junction.delta import Delta\n",
    "from junction.confluence.api import Confluence\n",
    "from git import Repo, NULL_TREE\n",
    "from pathlib import Path\n",
    "from pprint import pprint\n",
    "\n",
    "confluence = Confluence(WIKI_API, WIKI_USERNAME, WIKI_PASSWORD)\n",
    "repo = Repo(find_repository_root(Path('.')))\n",
    "commits = find_commits_on_branch_after('master', '915ca7d2a47ee15f38a9361c83e82e88509ac567', repo)\n",
    "mods = [list(filter_modifications_to_folder(get_modifications(c), Path('./tests/wiki/TS'))) for c in commits]\n",
    "\n",
    "body = mods[0][0].source_code\n"
   ]
  },
  {
   "cell_type": "code",
   "execution_count": 10,
   "metadata": {},
   "outputs": [
    {
     "data": {
      "text/plain": "'<h1>Heading 1</h1>\\n<h2>Heading 2</h2>\\n<h3>Heading 3</h3>\\n<h4>Heading 4</h4>\\n<h5>Heading 5</h5>\\n<h6>Heading 6</h6>\\n<p>Plain old text</p>\\n<ul>\\n<li>Unordered list</li>\\n<li>One</li>\\n<li>Two</li>\\n<li>Three</li>\\n</ul>\\n<ol>\\n<li>Ordered list</li>\\n<li>One</li>\\n<li>Two</li>\\n<li>Three</li>\\n</ol>\\n<ul>\\n<li>Nested list<ul>\\n<li>Child</li>\\n</ul>\\n</li>\\n<li>One</li>\\n<li>Two<ol>\\n<li>Ordered Child</li>\\n<li>Another</li>\\n</ol>\\n</li>\\n</ul>\\n<p><code>php\\n&lt;?php\\n    // code blocks\\n    echo \"Hello World\"\\n?&gt;</code></p>'"
     },
     "execution_count": 10,
     "metadata": {},
     "output_type": "execute_result"
    }
   ],
   "source": [
    "from junction.markdown import markdown_to_storage\n",
    "\n",
    "markdown_to_storage(body.decode(\"utf-8\", \"ignore\"))"
   ]
  },
  {
   "cell_type": "code",
   "execution_count": null,
   "metadata": {},
   "outputs": [],
   "source": []
  }
 ]
}