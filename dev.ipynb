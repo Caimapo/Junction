{
 "nbformat": 4,
 "nbformat_minor": 2,
 "metadata": {
  "language_info": {
   "name": "python",
   "codemirror_mode": {
    "name": "ipython",
    "version": 3
   },
   "version": "3.8.1-final"
  },
  "orig_nbformat": 2,
  "file_extension": ".py",
  "mimetype": "text/x-python",
  "name": "python",
  "npconvert_exporter": "python",
  "pygments_lexer": "ipython3",
  "version": 3,
  "kernelspec": {
   "name": "python38164bitjunctionpipenve350e0156daf429fb33afa06f80dee14",
   "display_name": "Python 3.8.1 64-bit ('Junction': pipenv)"
  }
 },
 "cells": [
  {
   "cell_type": "code",
   "execution_count": 5,
   "metadata": {},
   "outputs": [],
   "source": [
    "import os\n",
    "import sys\n",
    "\n",
    "sys.path.append(\"src/\")\n",
    "\n",
    "# go get an API token at https://id.atlassian.com/manage/api-tokens\n",
    "# and put it in the CONFLUENCE_API_KEY environment variable.\n",
    "# ...put the corresponding username (e-mail) in CONFLUENCE_API_USER\n",
    "\n",
    "WIKI_API = \"https://jihugh.atlassian.net/wiki/rest/api\"\n",
    "WIKI_USERNAME = os.environ['CONFLUENCE_API_USER']\n",
    "WIKI_PASSWORD = os.environ['CONFLUENCE_API_KEY']"
   ]
  },
  {
   "cell_type": "code",
   "execution_count": 6,
   "metadata": {},
   "outputs": [],
   "source": [
    "from junction.confluence.api import Confluence\n",
    "from junction.confluence.models import UpdateContent\n",
    "from pprint import pprint\n",
    "wiki = Confluence(WIKI_API, WIKI_USERNAME, WIKI_PASSWORD)\n",
    "\n",
    "page = wiki.content.get_content_by_id(\"229377\", query_params={'expand': 'body.storage,version'})\n",
    "page.title = 'Sample Page Updated'\n",
    "\n",
    "updated_page = UpdateContent.from_content(page)\n",
    "wiki.content.update_content(\"229377\", updated_page)"
   ]
  },
  {
   "cell_type": "code",
   "execution_count": 7,
   "metadata": {},
   "outputs": [
    {
     "name": "stdout",
     "output_type": "stream",
     "text": "<h1>Welcome to Junction</h1>\n<p>A tool for managing Confluence content with the power of Git.  With Junction you can run your entire content publishing workflow from a Git repository with pull requests.</p>\n<p>Junction will take markdown documents and turn them into Confluence wiki pages.</p>\n<h2>Supported Features</h2>\n<ul>\n<li>Unordered Lists</li>\n<li>Ordered Lists</li>\n<li><em>Italics</em></li>\n<li><strong>Bold</strong></li>\n<li>~~Strikethrough~~</li>\n<li><a href=\"https://www.google.com\">Links</a></li>\n<li>Inline <code>code</code></li>\n<li>...more to come!</li>\n</ul>"
    }
   ],
   "source": [
    "import markdown\n",
    "from markdown.extensions.sane_lists import SaneListExtension\n",
    "from markdown.extensions.fenced_code import FencedCodeExtension\n",
    "\n",
    "markdown.markdownFromFile(input=\"tests/wiki/TS/Root Page.md\", extensions=[SaneListExtension(), FencedCodeExtension()])"
   ]
  }
 ]
}